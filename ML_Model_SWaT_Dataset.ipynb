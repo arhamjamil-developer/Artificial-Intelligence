{
  "nbformat": 4,
  "nbformat_minor": 0,
  "metadata": {
    "colab": {
      "provenance": []
    },
    "kernelspec": {
      "name": "python3",
      "display_name": "Python 3"
    },
    "language_info": {
      "name": "python"
    }
  },
  "cells": [
    {
      "cell_type": "markdown",
      "source": [
        "Step 1: Preprocess the Dataset"
      ],
      "metadata": {
        "id": "B2gYnI8BFmO5"
      }
    },
    {
      "cell_type": "code",
      "execution_count": 2,
      "metadata": {
        "id": "UGWJ2BlbFbW6"
      },
      "outputs": [],
      "source": [
        "import pandas as pd\n",
        "import numpy as np\n",
        "from sklearn.model_selection import train_test_split\n",
        "from sklearn.ensemble import RandomForestClassifier\n",
        "from sklearn.metrics import accuracy_score, precision_score, recall_score, f1_score, mean_squared_error, classification_report\n",
        "\n",
        "file_path = '/content/drive/MyDrive/Dec2019.xlsx'\n",
        "\n",
        "data = pd.read_excel(file_path)\n",
        "\n",
        "numeric_data = data.select_dtypes(include=[np.number])\n",
        "\n",
        "numeric_data = numeric_data.dropna()\n",
        "\n",
        "# Split into features (X) and target (y)\n",
        "X = numeric_data.iloc[:, :-1].to_numpy()\n",
        "y = numeric_data.iloc[:, -1].to_numpy()\n",
        "\n",
        "# Split the data into training and testing sets\n",
        "X_train, X_test, y_train, y_test = train_test_split(X, y, test_size=0.3, random_state=42)\n"
      ]
    },
    {
      "cell_type": "markdown",
      "source": [
        "Step 2: Train a Machine Learning Model"
      ],
      "metadata": {
        "id": "mCM-QgjsGgSv"
      }
    },
    {
      "cell_type": "code",
      "source": [
        "# Initialize the Random Forest Classifier\n",
        "model = RandomForestClassifier(random_state=42)\n",
        "\n",
        "# Train the model on the training data\n",
        "model.fit(X_train, y_train)\n",
        "\n",
        "# Make predictions on the test data\n",
        "y_pred = model.predict(X_test)\n"
      ],
      "metadata": {
        "id": "FzjHwR-zGhBc"
      },
      "execution_count": 3,
      "outputs": []
    },
    {
      "cell_type": "markdown",
      "source": [
        "Step 3: Evaluate the Model"
      ],
      "metadata": {
        "id": "_YBcYlRzGsfW"
      }
    },
    {
      "cell_type": "code",
      "source": [
        "accuracy = accuracy_score(y_test, y_pred)\n",
        "\n",
        "precision = precision_score(y_test, y_pred, average='weighted')  # Use 'macro' or 'micro' for multi-class data\n",
        "\n",
        "recall = recall_score(y_test, y_pred, average='weighted')\n",
        "\n",
        "f1 = f1_score(y_test, y_pred, average='weighted')\n",
        "\n",
        "# Mean Squared Error (MSE)\n",
        "mse = mean_squared_error(y_test, y_pred)\n",
        "\n",
        "# Classification Report\n",
        "report = classification_report(y_test, y_pred)\n",
        "\n",
        "# Print the metrics\n",
        "print(\"Model Performance Metrics:\")\n",
        "print(f\"Accuracy: {accuracy:.2f}\")\n",
        "print(f\"Precision: {precision:.2f}\")\n",
        "print(f\"Recall: {recall:.2f}\")\n",
        "print(f\"F1-score: {f1:.2f}\")\n",
        "print(f\"Mean Squared Error (MSE): {mse:.2f}\")\n",
        "print(\"\\nClassification Report:\")\n",
        "print(report)\n"
      ],
      "metadata": {
        "colab": {
          "base_uri": "https://localhost:8080/"
        },
        "id": "L4CM-RFxGs_g",
        "outputId": "04a995c5-90d5-4f73-c729-38ed9d18a27f"
      },
      "execution_count": 4,
      "outputs": [
        {
          "output_type": "stream",
          "name": "stdout",
          "text": [
            "Model Performance Metrics:\n",
            "Accuracy: 1.00\n",
            "Precision: 1.00\n",
            "Recall: 1.00\n",
            "F1-score: 1.00\n",
            "Mean Squared Error (MSE): 0.00\n",
            "\n",
            "Classification Report:\n",
            "              precision    recall  f1-score   support\n",
            "\n",
            "           1       1.00      1.00      1.00      3960\n",
            "\n",
            "    accuracy                           1.00      3960\n",
            "   macro avg       1.00      1.00      1.00      3960\n",
            "weighted avg       1.00      1.00      1.00      3960\n",
            "\n"
          ]
        }
      ]
    }
  ]
}